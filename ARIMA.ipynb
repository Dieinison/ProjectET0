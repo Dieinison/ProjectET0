{
 "cells": [
  {
   "cell_type": "markdown",
   "metadata": {},
   "source": [
    "# ARIMA Forecasting to predict $ET_0$"
   ]
  },
  {
   "cell_type": "markdown",
   "metadata": {},
   "source": [
    "Libs required"
   ]
  },
  {
   "cell_type": "code",
   "execution_count": 1,
   "metadata": {},
   "outputs": [],
   "source": [
    "%matplotlib inline\n",
    "\n",
    "import pandas as pd\n",
    "import numpy as np\n",
    "import warnings\n",
    "from sklearn import metrics as mt\n",
    "from pyramid.arima import auto_arima\n",
    "\n",
    "warnings.filterwarnings(\"ignore\")"
   ]
  },
  {
   "cell_type": "code",
   "execution_count": 2,
   "metadata": {},
   "outputs": [],
   "source": [
    "y_treino = pd.read_csv('y_treino.csv', index_col=['data'], parse_dates=['data'])\n",
    "y_teste = pd.read_csv('y_teste.csv', index_col=['data'], parse_dates=['data'])"
   ]
  },
  {
   "cell_type": "code",
   "execution_count": 3,
   "metadata": {},
   "outputs": [],
   "source": [
    "y_teste.index.name = 'Date'\n",
    "y_teste.rename(columns={\"et0\": \"ET0\"});"
   ]
  },
  {
   "cell_type": "code",
   "execution_count": 4,
   "metadata": {},
   "outputs": [],
   "source": [
    "et0 = pd.concat([y_treino, y_teste])"
   ]
  },
  {
   "cell_type": "code",
   "execution_count": 5,
   "metadata": {},
   "outputs": [
    {
     "name": "stdout",
     "output_type": "stream",
     "text": [
      "Fit ARIMA: order=(1, 1, 1); AIC=-2122.604, BIC=-2107.372, Fit time=0.434 seconds\n",
      "Fit ARIMA: order=(0, 1, 0); AIC=-2071.188, BIC=-2063.572, Fit time=0.008 seconds\n",
      "Fit ARIMA: order=(1, 1, 0); AIC=-2081.175, BIC=-2069.750, Fit time=0.051 seconds\n",
      "Fit ARIMA: order=(0, 1, 1); AIC=-2092.745, BIC=-2081.321, Fit time=0.052 seconds\n",
      "Fit ARIMA: order=(2, 1, 1); AIC=-2121.705, BIC=-2102.664, Fit time=0.277 seconds\n",
      "Fit ARIMA: order=(1, 1, 2); AIC=-2121.892, BIC=-2102.852, Fit time=0.373 seconds\n",
      "Fit ARIMA: order=(2, 1, 2); AIC=-2120.118, BIC=-2097.269, Fit time=0.412 seconds\n",
      "Total fit time: 1.610 seconds\n"
     ]
    }
   ],
   "source": [
    "arima_model = auto_arima(et0.et0, start_p=1, start_q=1, max_p=5, max_q=5, m=12,\n",
    "                          start_P=0, seasonal=False, d=1, D=1, trace=True,\n",
    "                          error_action='ignore',  # don't want to know if an order does not work\n",
    "                          suppress_warnings=True,  # don't want convergence warnings\n",
    "                          stepwise=True)  # set to stepwise"
   ]
  },
  {
   "cell_type": "code",
   "execution_count": 6,
   "metadata": {
    "scrolled": false
   },
   "outputs": [
    {
     "data": {
      "text/html": [
       "<table class=\"simpletable\">\n",
       "<caption>ARIMA Model Results</caption>\n",
       "<tr>\n",
       "  <th>Dep. Variable:</th>        <td>D.y</td>       <th>  No. Observations:  </th>    <td>333</td>   \n",
       "</tr>\n",
       "<tr>\n",
       "  <th>Model:</th>          <td>ARIMA(1, 1, 1)</td>  <th>  Log Likelihood     </th> <td>1065.302</td> \n",
       "</tr>\n",
       "<tr>\n",
       "  <th>Method:</th>             <td>css-mle</td>     <th>  S.D. of innovations</th>   <td>0.010</td>  \n",
       "</tr>\n",
       "<tr>\n",
       "  <th>Date:</th>          <td>Mon, 24 Sep 2018</td> <th>  AIC                </th> <td>-2122.604</td>\n",
       "</tr>\n",
       "<tr>\n",
       "  <th>Time:</th>              <td>22:28:47</td>     <th>  BIC                </th> <td>-2107.372</td>\n",
       "</tr>\n",
       "<tr>\n",
       "  <th>Sample:</th>                <td>1</td>        <th>  HQIC               </th> <td>-2116.530</td>\n",
       "</tr>\n",
       "<tr>\n",
       "  <th></th>                       <td> </td>        <th>                     </th>     <td> </td>    \n",
       "</tr>\n",
       "</table>\n",
       "<table class=\"simpletable\">\n",
       "<tr>\n",
       "      <td></td>         <th>coef</th>     <th>std err</th>      <th>z</th>      <th>P>|z|</th>  <th>[0.025</th>    <th>0.975]</th>  \n",
       "</tr>\n",
       "<tr>\n",
       "  <th>const</th>     <td> 2.827e-06</td> <td>    0.000</td> <td>    0.022</td> <td> 0.983</td> <td>   -0.000</td> <td>    0.000</td>\n",
       "</tr>\n",
       "<tr>\n",
       "  <th>ar.L1.D.y</th> <td>    0.5247</td> <td>    0.065</td> <td>    8.079</td> <td> 0.000</td> <td>    0.397</td> <td>    0.652</td>\n",
       "</tr>\n",
       "<tr>\n",
       "  <th>ma.L1.D.y</th> <td>   -0.8881</td> <td>    0.034</td> <td>  -26.156</td> <td> 0.000</td> <td>   -0.955</td> <td>   -0.822</td>\n",
       "</tr>\n",
       "</table>\n",
       "<table class=\"simpletable\">\n",
       "<caption>Roots</caption>\n",
       "<tr>\n",
       "    <td></td>   <th>            Real</th>  <th>         Imaginary</th> <th>         Modulus</th>  <th>        Frequency</th>\n",
       "</tr>\n",
       "<tr>\n",
       "  <th>AR.1</th> <td>           1.9059</td> <td>          +0.0000j</td> <td>           1.9059</td> <td>           0.0000</td>\n",
       "</tr>\n",
       "<tr>\n",
       "  <th>MA.1</th> <td>           1.1260</td> <td>          +0.0000j</td> <td>           1.1260</td> <td>           0.0000</td>\n",
       "</tr>\n",
       "</table>"
      ],
      "text/plain": [
       "<class 'statsmodels.iolib.summary.Summary'>\n",
       "\"\"\"\n",
       "                             ARIMA Model Results                              \n",
       "==============================================================================\n",
       "Dep. Variable:                    D.y   No. Observations:                  333\n",
       "Model:                 ARIMA(1, 1, 1)   Log Likelihood                1065.302\n",
       "Method:                       css-mle   S.D. of innovations              0.010\n",
       "Date:                Mon, 24 Sep 2018   AIC                          -2122.604\n",
       "Time:                        22:28:47   BIC                          -2107.372\n",
       "Sample:                             1   HQIC                         -2116.530\n",
       "                                                                              \n",
       "==============================================================================\n",
       "                 coef    std err          z      P>|z|      [0.025      0.975]\n",
       "------------------------------------------------------------------------------\n",
       "const       2.827e-06      0.000      0.022      0.983      -0.000       0.000\n",
       "ar.L1.D.y      0.5247      0.065      8.079      0.000       0.397       0.652\n",
       "ma.L1.D.y     -0.8881      0.034    -26.156      0.000      -0.955      -0.822\n",
       "                                    Roots                                    \n",
       "=============================================================================\n",
       "                  Real          Imaginary           Modulus         Frequency\n",
       "-----------------------------------------------------------------------------\n",
       "AR.1            1.9059           +0.0000j            1.9059            0.0000\n",
       "MA.1            1.1260           +0.0000j            1.1260            0.0000\n",
       "-----------------------------------------------------------------------------\n",
       "\"\"\""
      ]
     },
     "execution_count": 6,
     "metadata": {},
     "output_type": "execute_result"
    }
   ],
   "source": [
    "arima_model.summary()"
   ]
  },
  {
   "cell_type": "code",
   "execution_count": 7,
   "metadata": {
    "scrolled": true
   },
   "outputs": [
    {
     "data": {
      "text/plain": [
       "ARIMA(callback=None, disp=0, maxiter=50, method=None, order=(1, 1, 1),\n",
       "   out_of_sample_size=0, scoring='mse', scoring_args={},\n",
       "   seasonal_order=None, solver='lbfgs', start_params=None,\n",
       "   suppress_warnings=True, transparams=True, trend='c')"
      ]
     },
     "execution_count": 7,
     "metadata": {},
     "output_type": "execute_result"
    }
   ],
   "source": [
    "arima_model.fit(y_treino.et0)"
   ]
  },
  {
   "cell_type": "code",
   "execution_count": 8,
   "metadata": {},
   "outputs": [
    {
     "name": "stdout",
     "output_type": "stream",
     "text": [
      "RMSE = 0.0190944746794509\n",
      "MAE  = 0.016811767580223496\n",
      "\n"
     ]
    }
   ],
   "source": [
    "y_pred = arima_model.predict(n_periods=len(y_teste))\n",
    "\n",
    "print('RMSE = {}\\nMAE  = {}\\n'.format(\n",
    "    np.sqrt(mt.mean_squared_error(y_teste.et0, y_pred)), \n",
    "    mt.mean_absolute_error(y_teste.et0, y_pred)))"
   ]
  }
 ],
 "metadata": {
  "kernelspec": {
   "display_name": "Python 3",
   "language": "python",
   "name": "python3"
  },
  "language_info": {
   "codemirror_mode": {
    "name": "ipython",
    "version": 3
   },
   "file_extension": ".py",
   "mimetype": "text/x-python",
   "name": "python",
   "nbconvert_exporter": "python",
   "pygments_lexer": "ipython3",
   "version": "3.6.3"
  },
  "toc": {
   "base_numbering": 1,
   "nav_menu": {},
   "number_sections": true,
   "sideBar": true,
   "skip_h1_title": false,
   "title_cell": "Table of Contents",
   "title_sidebar": "Contents",
   "toc_cell": false,
   "toc_position": {},
   "toc_section_display": true,
   "toc_window_display": false
  }
 },
 "nbformat": 4,
 "nbformat_minor": 2
}
