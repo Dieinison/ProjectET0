{
 "cells": [
  {
   "cell_type": "markdown",
   "metadata": {},
   "source": [
    "# ARIMA Forecasting to predict $ET_0$"
   ]
  },
  {
   "cell_type": "markdown",
   "metadata": {},
   "source": [
    "Libs required"
   ]
  },
  {
   "cell_type": "code",
   "execution_count": 1,
   "metadata": {},
   "outputs": [],
   "source": [
    "%matplotlib inline\n",
    "\n",
    "import pandas as pd\n",
    "import numpy as np\n",
    "import warnings\n",
    "from sklearn import metrics as mt\n",
    "from pyramid.arima import auto_arima\n",
    "\n",
    "warnings.filterwarnings(\"ignore\")"
   ]
  },
  {
   "cell_type": "code",
   "execution_count": 3,
   "metadata": {
    "collapsed": true
   },
   "outputs": [],
   "source": [
    "y_treino = pd.read_csv('y_treino.csv', index_col=['data'], parse_dates=['data'])\n",
    "y_teste = pd.read_csv('y_teste.csv', index_col=['data'], parse_dates=['data'])"
   ]
  },
  {
   "cell_type": "code",
   "execution_count": 6,
   "metadata": {
    "collapsed": true
   },
   "outputs": [],
   "source": [
    "y_teste.index.name = 'Date'\n",
    "y_teste.rename(columns={\"et0\": \"ET0\"});"
   ]
  },
  {
   "cell_type": "code",
   "execution_count": null,
   "metadata": {},
   "outputs": [],
   "source": [
    "et0 = pd.concat([y_treino, y_teste])"
   ]
  },
  {
   "cell_type": "code",
   "execution_count": null,
   "metadata": {},
   "outputs": [],
   "source": [
    "arima_model = auto_arima(et0.et0, start_p=1, start_q=1, max_p=5, max_q=5, m=12,\n",
    "                          start_P=0, seasonal=False, d=1, D=1, trace=True,\n",
    "                          error_action='ignore',  # don't want to know if an order does not work\n",
    "                          suppress_warnings=True,  # don't want convergence warnings\n",
    "                          stepwise=True)  # set to stepwise"
   ]
  },
  {
   "cell_type": "code",
   "execution_count": 10,
   "metadata": {
    "scrolled": false
   },
   "outputs": [
    {
     "name": "stdout",
     "output_type": "stream",
     "text": [
      "Fit ARIMA: order=(1, 1, 1); AIC=-2111.757, BIC=-2096.525, Fit time=2.609 seconds\n",
      "Fit ARIMA: order=(0, 1, 0); AIC=-2062.906, BIC=-2055.290, Fit time=0.017 seconds\n",
      "Fit ARIMA: order=(1, 1, 0); AIC=-2072.625, BIC=-2061.201, Fit time=0.096 seconds\n",
      "Fit ARIMA: order=(0, 1, 1); AIC=-2085.775, BIC=-2074.350, Fit time=0.063 seconds\n",
      "Fit ARIMA: order=(2, 1, 1); AIC=-2111.424, BIC=-2092.383, Fit time=0.430 seconds\n",
      "Fit ARIMA: order=(1, 1, 2); AIC=-2111.708, BIC=-2092.667, Fit time=0.489 seconds\n",
      "Fit ARIMA: order=(2, 1, 2); AIC=-2109.752, BIC=-2086.903, Fit time=0.490 seconds\n",
      "Total fit time: 4.197 seconds\n"
     ]
    },
    {
     "data": {
      "text/html": [
       "<table class=\"simpletable\">\n",
       "<caption>ARIMA Model Results</caption>\n",
       "<tr>\n",
       "  <th>Dep. Variable:</th>        <td>D.y</td>       <th>  No. Observations:  </th>    <td>333</td>   \n",
       "</tr>\n",
       "<tr>\n",
       "  <th>Model:</th>          <td>ARIMA(1, 1, 1)</td>  <th>  Log Likelihood     </th> <td>1059.879</td> \n",
       "</tr>\n",
       "<tr>\n",
       "  <th>Method:</th>             <td>css-mle</td>     <th>  S.D. of innovations</th>   <td>0.010</td>  \n",
       "</tr>\n",
       "<tr>\n",
       "  <th>Date:</th>          <td>Sun, 13 May 2018</td> <th>  AIC                </th> <td>-2111.757</td>\n",
       "</tr>\n",
       "<tr>\n",
       "  <th>Time:</th>              <td>23:40:47</td>     <th>  BIC                </th> <td>-2096.525</td>\n",
       "</tr>\n",
       "<tr>\n",
       "  <th>Sample:</th>                <td>1</td>        <th>  HQIC               </th> <td>-2105.683</td>\n",
       "</tr>\n",
       "<tr>\n",
       "  <th></th>                       <td> </td>        <th>                     </th>     <td> </td>    \n",
       "</tr>\n",
       "</table>\n",
       "<table class=\"simpletable\">\n",
       "<tr>\n",
       "      <td></td>         <th>coef</th>     <th>std err</th>      <th>z</th>      <th>P>|z|</th>  <th>[0.025</th>    <th>0.975]</th>  \n",
       "</tr>\n",
       "<tr>\n",
       "  <th>const</th>     <td>-3.147e-05</td> <td>    0.000</td> <td>   -0.211</td> <td> 0.833</td> <td>   -0.000</td> <td>    0.000</td>\n",
       "</tr>\n",
       "<tr>\n",
       "  <th>ar.L1.D.y</th> <td>    0.5011</td> <td>    0.071</td> <td>    7.047</td> <td> 0.000</td> <td>    0.362</td> <td>    0.640</td>\n",
       "</tr>\n",
       "<tr>\n",
       "  <th>ma.L1.D.y</th> <td>   -0.8678</td> <td>    0.041</td> <td>  -20.996</td> <td> 0.000</td> <td>   -0.949</td> <td>   -0.787</td>\n",
       "</tr>\n",
       "</table>\n",
       "<table class=\"simpletable\">\n",
       "<caption>Roots</caption>\n",
       "<tr>\n",
       "    <td></td>   <th>           Real</th> <th>         Imaginary</th> <th>         Modulus</th> <th>        Frequency</th>\n",
       "</tr>\n",
       "<tr>\n",
       "  <th>AR.1</th>               1.9956                    +0.0000j                    1.9956                    0.0000     \n",
       "</tr>\n",
       "<tr>\n",
       "  <th>MA.1</th>               1.1523                    +0.0000j                    1.1523                    0.0000     \n",
       "</tr>\n",
       "</table>"
      ],
      "text/plain": [
       "<class 'statsmodels.iolib.summary.Summary'>\n",
       "\"\"\"\n",
       "                             ARIMA Model Results                              \n",
       "==============================================================================\n",
       "Dep. Variable:                    D.y   No. Observations:                  333\n",
       "Model:                 ARIMA(1, 1, 1)   Log Likelihood                1059.879\n",
       "Method:                       css-mle   S.D. of innovations              0.010\n",
       "Date:                Sun, 13 May 2018   AIC                          -2111.757\n",
       "Time:                        23:40:47   BIC                          -2096.525\n",
       "Sample:                             1   HQIC                         -2105.683\n",
       "                                                                              \n",
       "==============================================================================\n",
       "                 coef    std err          z      P>|z|      [0.025      0.975]\n",
       "------------------------------------------------------------------------------\n",
       "const      -3.147e-05      0.000     -0.211      0.833      -0.000       0.000\n",
       "ar.L1.D.y      0.5011      0.071      7.047      0.000       0.362       0.640\n",
       "ma.L1.D.y     -0.8678      0.041    -20.996      0.000      -0.949      -0.787\n",
       "                                    Roots                                    \n",
       "=============================================================================\n",
       "                 Real           Imaginary           Modulus         Frequency\n",
       "-----------------------------------------------------------------------------\n",
       "AR.1            1.9956           +0.0000j            1.9956            0.0000\n",
       "MA.1            1.1523           +0.0000j            1.1523            0.0000\n",
       "-----------------------------------------------------------------------------\n",
       "\"\"\""
      ]
     },
     "execution_count": 10,
     "metadata": {},
     "output_type": "execute_result"
    }
   ],
   "source": [
    "arima_model.summary()"
   ]
  },
  {
   "cell_type": "code",
   "execution_count": 11,
   "metadata": {
    "scrolled": true
   },
   "outputs": [
    {
     "data": {
      "text/plain": [
       "ARIMA(callback=None, disp=0, maxiter=50, method=None, order=(1, 1, 1),\n",
       "   out_of_sample_size=0, scoring='mse', scoring_args={},\n",
       "   seasonal_order=None, solver='lbfgs', start_params=None,\n",
       "   suppress_warnings=True, transparams=True, trend='c')"
      ]
     },
     "execution_count": 11,
     "metadata": {},
     "output_type": "execute_result"
    }
   ],
   "source": [
    "arima_model.fit(y_treino.et0)"
   ]
  },
  {
   "cell_type": "code",
   "execution_count": 12,
   "metadata": {},
   "outputs": [
    {
     "name": "stdout",
     "output_type": "stream",
     "text": [
      "MSE  = 0.0003857254310470597\n",
      "RMSE = 0.0196398938654734\n",
      "MAE  = 0.01735667649306067\n",
      "R²   = -0.7981901895767356\n",
      "EVS = 0.0017058191909031795\n"
     ]
    }
   ],
   "source": [
    "y_pred = arima_model.predict(n_periods=len(y_teste))\n",
    "\n",
    "print('RMSE = {}\\nMAE  = {}\\n'.format(\n",
    "    np.sqrt(mt.mean_squared_error(y_teste.et0, y_pred)), \n",
    "    mt.mean_absolute_error(y_teste.et0, y_pred)))"
   ]
  },
  {
   "cell_type": "code",
   "execution_count": null,
   "metadata": {
    "collapsed": true
   },
   "outputs": [],
   "source": []
  }
 ],
 "metadata": {
  "kernelspec": {
   "display_name": "Python 3",
   "language": "python",
   "name": "python3"
  },
  "language_info": {
   "codemirror_mode": {
    "name": "ipython",
    "version": 3
   },
   "file_extension": ".py",
   "mimetype": "text/x-python",
   "name": "python",
   "nbconvert_exporter": "python",
   "pygments_lexer": "ipython3",
   "version": "3.6.3"
  },
  "toc": {
   "base_numbering": 1,
   "nav_menu": {},
   "number_sections": true,
   "sideBar": true,
   "skip_h1_title": false,
   "title_cell": "Table of Contents",
   "title_sidebar": "Contents",
   "toc_cell": false,
   "toc_position": {},
   "toc_section_display": true,
   "toc_window_display": false
  }
 },
 "nbformat": 4,
 "nbformat_minor": 2
}
