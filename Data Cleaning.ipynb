{
 "cells": [
  {
   "cell_type": "markdown",
   "metadata": {},
   "source": [
    "# Data cleaning from meteorological data - UFC Campus Quixadá\n",
    "- This notebook present the data cleaning process process described in the following paper: Time Series Forecasting for Purposes of Irrigation Management Process."
   ]
  },
  {
   "cell_type": "markdown",
   "metadata": {},
   "source": [
    "Libs required"
   ]
  },
  {
   "cell_type": "code",
   "execution_count": 1,
   "metadata": {},
   "outputs": [],
   "source": [
    "import numpy as np\n",
    "import pandas as pd\n",
    "import warnings\n",
    "\n",
    "warnings.filterwarnings('ignore')"
   ]
  },
  {
   "cell_type": "code",
   "execution_count": 17,
   "metadata": {},
   "outputs": [],
   "source": [
    "exp = pd.read_csv('dataset.csv', index_col=['data'], sep=',',parse_dates=['data'])"
   ]
  },
  {
   "cell_type": "code",
   "execution_count": 18,
   "metadata": {},
   "outputs": [
    {
     "data": {
      "text/html": [
       "<div>\n",
       "<style scoped>\n",
       "    .dataframe tbody tr th:only-of-type {\n",
       "        vertical-align: middle;\n",
       "    }\n",
       "\n",
       "    .dataframe tbody tr th {\n",
       "        vertical-align: top;\n",
       "    }\n",
       "\n",
       "    .dataframe thead th {\n",
       "        text-align: right;\n",
       "    }\n",
       "</style>\n",
       "<table border=\"1\" class=\"dataframe\">\n",
       "  <thead>\n",
       "    <tr style=\"text-align: right;\">\n",
       "      <th></th>\n",
       "      <th>pressao_atm_max</th>\n",
       "      <th>pressao_atm_min</th>\n",
       "      <th>chuva_mm</th>\n",
       "      <th>temp_ar_max</th>\n",
       "      <th>temp_ar_min</th>\n",
       "      <th>umid_relat_max</th>\n",
       "      <th>umid_relat_min</th>\n",
       "      <th>rad_solar_total</th>\n",
       "      <th>temp_max</th>\n",
       "      <th>temp_min</th>\n",
       "      <th>temp_ar_media</th>\n",
       "      <th>umid_relat_media</th>\n",
       "      <th>vento_veloc</th>\n",
       "      <th>rad_solar_media</th>\n",
       "      <th>et0</th>\n",
       "    </tr>\n",
       "    <tr>\n",
       "      <th>data</th>\n",
       "      <th></th>\n",
       "      <th></th>\n",
       "      <th></th>\n",
       "      <th></th>\n",
       "      <th></th>\n",
       "      <th></th>\n",
       "      <th></th>\n",
       "      <th></th>\n",
       "      <th></th>\n",
       "      <th></th>\n",
       "      <th></th>\n",
       "      <th></th>\n",
       "      <th></th>\n",
       "      <th></th>\n",
       "      <th></th>\n",
       "    </tr>\n",
       "  </thead>\n",
       "  <tbody>\n",
       "    <tr>\n",
       "      <th>2017-01-01 00:00:00</th>\n",
       "      <td>619.9329</td>\n",
       "      <td>599.9176</td>\n",
       "      <td>0.0</td>\n",
       "      <td>25.936</td>\n",
       "      <td>25.426</td>\n",
       "      <td>81.828</td>\n",
       "      <td>78.974</td>\n",
       "      <td>1601.449</td>\n",
       "      <td>22.16899</td>\n",
       "      <td>22.00570</td>\n",
       "      <td>25.66374</td>\n",
       "      <td>80.65533</td>\n",
       "      <td>0.864792</td>\n",
       "      <td>4.448471</td>\n",
       "      <td>0.016252</td>\n",
       "    </tr>\n",
       "    <tr>\n",
       "      <th>2017-01-01 01:00:00</th>\n",
       "      <td>620.2747</td>\n",
       "      <td>599.7497</td>\n",
       "      <td>0.0</td>\n",
       "      <td>25.447</td>\n",
       "      <td>25.094</td>\n",
       "      <td>84.541</td>\n",
       "      <td>81.796</td>\n",
       "      <td>1566.530</td>\n",
       "      <td>22.36811</td>\n",
       "      <td>22.07685</td>\n",
       "      <td>25.24476</td>\n",
       "      <td>83.31339</td>\n",
       "      <td>0.746875</td>\n",
       "      <td>4.351471</td>\n",
       "      <td>0.012721</td>\n",
       "    </tr>\n",
       "  </tbody>\n",
       "</table>\n",
       "</div>"
      ],
      "text/plain": [
       "                     pressao_atm_max  pressao_atm_min  chuva_mm  temp_ar_max  \\\n",
       "data                                                                           \n",
       "2017-01-01 00:00:00         619.9329         599.9176       0.0       25.936   \n",
       "2017-01-01 01:00:00         620.2747         599.7497       0.0       25.447   \n",
       "\n",
       "                     temp_ar_min  umid_relat_max  umid_relat_min  \\\n",
       "data                                                               \n",
       "2017-01-01 00:00:00       25.426          81.828          78.974   \n",
       "2017-01-01 01:00:00       25.094          84.541          81.796   \n",
       "\n",
       "                     rad_solar_total  temp_max  temp_min  temp_ar_media  \\\n",
       "data                                                                      \n",
       "2017-01-01 00:00:00         1601.449  22.16899  22.00570       25.66374   \n",
       "2017-01-01 01:00:00         1566.530  22.36811  22.07685       25.24476   \n",
       "\n",
       "                     umid_relat_media  vento_veloc  rad_solar_media       et0  \n",
       "data                                                                           \n",
       "2017-01-01 00:00:00          80.65533     0.864792         4.448471  0.016252  \n",
       "2017-01-01 01:00:00          83.31339     0.746875         4.351471  0.012721  "
      ]
     },
     "execution_count": 18,
     "metadata": {},
     "output_type": "execute_result"
    }
   ],
   "source": [
    "exp.head(2)"
   ]
  },
  {
   "cell_type": "code",
   "execution_count": 19,
   "metadata": {},
   "outputs": [
    {
     "data": {
      "text/plain": [
       "count    7948.000000\n",
       "mean        0.043039\n",
       "std         0.046288\n",
       "min         0.000055\n",
       "25%         0.003839\n",
       "50%         0.023647\n",
       "75%         0.071558\n",
       "max         0.209839\n",
       "Name: et0, dtype: float64"
      ]
     },
     "execution_count": 19,
     "metadata": {},
     "output_type": "execute_result"
    }
   ],
   "source": [
    "(exp['et0']).describe()"
   ]
  },
  {
   "cell_type": "markdown",
   "metadata": {},
   "source": [
    "Removing outliers"
   ]
  },
  {
   "cell_type": "code",
   "execution_count": 20,
   "metadata": {},
   "outputs": [],
   "source": [
    "exp = exp[(exp['chuva_mm'] <= 60)]\n",
    "exp = exp[(exp['temp_min'] >= 0)]\n",
    "exp = exp[(exp['umid_relat_min'] >= 20)]\n",
    "exp = exp[(exp['rad_solar_total'] <= 4000)]"
   ]
  },
  {
   "cell_type": "markdown",
   "metadata": {},
   "source": [
    "Downsampling to daily basis"
   ]
  },
  {
   "cell_type": "code",
   "execution_count": 21,
   "metadata": {
    "scrolled": true
   },
   "outputs": [],
   "source": [
    "exp = exp.resample(rule='D').mean()"
   ]
  },
  {
   "cell_type": "markdown",
   "metadata": {},
   "source": [
    "Spliting train and test - 80/20"
   ]
  },
  {
   "cell_type": "code",
   "execution_count": 22,
   "metadata": {},
   "outputs": [],
   "source": [
    "X = exp[[c for c in exp.columns if c != 'et0']]\n",
    "y = exp[['et0']]"
   ]
  },
  {
   "cell_type": "code",
   "execution_count": 23,
   "metadata": {
    "scrolled": true
   },
   "outputs": [],
   "source": [
    "X_train, X_test = X['2017-01-01':'2017-09-24'], X['2017-09-24':'2017-11-29']\n",
    "y_train, y_test = y['2017-01-01':'2017-09-24'], y['2017-09-24':'2017-11-29']"
   ]
  },
  {
   "cell_type": "code",
   "execution_count": 24,
   "metadata": {},
   "outputs": [],
   "source": [
    "X_train.to_csv('./data/features_treino_completo.csv')\n",
    "y_train.to_csv('./data/et0_treino_completo.csv')\n",
    "X_test.to_csv('./data/features_teste.csv')\n",
    "y_test.to_csv('./data/et0_teste.csv')"
   ]
  },
  {
   "cell_type": "markdown",
   "metadata": {},
   "source": [
    "Split train in train and validation"
   ]
  },
  {
   "cell_type": "code",
   "execution_count": 25,
   "metadata": {},
   "outputs": [],
   "source": [
    "X_train_, X_val = X_train[:213], X_train[213:]\n",
    "y_train_, y_val = y_train[:213], y_train[213:]"
   ]
  },
  {
   "cell_type": "code",
   "execution_count": 26,
   "metadata": {},
   "outputs": [],
   "source": [
    "X_train_.to_csv('./data/features_treino.csv')\n",
    "y_train_.to_csv('./data/et0_treino.csv')\n",
    "X_val.to_csv('./data/features_val.csv')\n",
    "y_val.to_csv('./data/et0_val.csv')"
   ]
  },
  {
   "cell_type": "code",
   "execution_count": null,
   "metadata": {},
   "outputs": [],
   "source": []
  },
  {
   "cell_type": "code",
   "execution_count": null,
   "metadata": {},
   "outputs": [],
   "source": []
  }
 ],
 "metadata": {
  "kernelspec": {
   "display_name": "Python 3",
   "language": "python",
   "name": "python3"
  },
  "language_info": {
   "codemirror_mode": {
    "name": "ipython",
    "version": 3
   },
   "file_extension": ".py",
   "mimetype": "text/x-python",
   "name": "python",
   "nbconvert_exporter": "python",
   "pygments_lexer": "ipython3",
   "version": "3.7.1"
  },
  "toc": {
   "base_numbering": 1,
   "nav_menu": {},
   "number_sections": true,
   "sideBar": true,
   "skip_h1_title": false,
   "title_cell": "Table of Contents",
   "title_sidebar": "Contents",
   "toc_cell": false,
   "toc_position": {},
   "toc_section_display": true,
   "toc_window_display": false
  }
 },
 "nbformat": 4,
 "nbformat_minor": 2
}
