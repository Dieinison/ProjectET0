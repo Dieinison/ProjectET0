{
 "cells": [
  {
   "cell_type": "markdown",
   "metadata": {},
   "source": [
    "# Emsemble methods to predict $ET_0$\n",
    "- Random Forest\n",
    "- Gradient Boosting"
   ]
  },
  {
   "cell_type": "markdown",
   "metadata": {},
   "source": [
    "Libs required"
   ]
  },
  {
   "cell_type": "code",
   "execution_count": 1,
   "metadata": {},
   "outputs": [],
   "source": [
    "%matplotlib inline\n",
    "\n",
    "import pandas as pd\n",
    "import numpy as np\n",
    "import warnings\n",
    "from sklearn import metrics, ensemble\n",
    "from sklearn.model_selection import GridSearchCV\n",
    "\n",
    "from sklearn.preprocessing import StandardScaler, Normalizer\n",
    "\n",
    "warnings.filterwarnings(\"ignore\")"
   ]
  },
  {
   "cell_type": "code",
   "execution_count": 2,
   "metadata": {},
   "outputs": [],
   "source": [
    "X_treino = pd.read_csv('X_treino.csv', index_col=['data'], parse_dates=['data'])\n",
    "y_treino = pd.read_csv('y_treino.csv', index_col=['data'], parse_dates=['data'])\n",
    "X_teste = pd.read_csv('X_teste.csv', index_col=['data'], parse_dates=['data'])\n",
    "y_teste = pd.read_csv('y_teste.csv', index_col=['data'], parse_dates=['data'])"
   ]
  },
  {
   "cell_type": "markdown",
   "metadata": {},
   "source": [
    "Grid Search for Random Forest"
   ]
  },
  {
   "cell_type": "code",
   "execution_count": 4,
   "metadata": {},
   "outputs": [
    {
     "name": "stdout",
     "output_type": "stream",
     "text": [
      "{'max_depth': 10, 'n_estimators': 150}\n"
     ]
    }
   ],
   "source": [
    "model_rf = ensemble.RandomForestRegressor(random_state=42)\n",
    "n_estimators = [20, 50, 100, 150, 200, 250]\n",
    "max_depth = [3, 4, 5, 6, 7, 8, 9, 10]\n",
    "\n",
    "param_grid = {'n_estimators': n_estimators, \n",
    "              'max_depth': max_depth}\n",
    "\n",
    "gs = GridSearchCV(estimator = model_rf, \n",
    "                  param_grid = param_grid, \n",
    "                  scoring = 'neg_mean_squared_error', \n",
    "                  cv=10)\n",
    "\n",
    "gs = gs.fit(X_treino, y_treino)\n",
    "print(gs.best_params_)"
   ]
  },
  {
   "cell_type": "markdown",
   "metadata": {},
   "source": [
    "Grid Search for Gradient Boosting"
   ]
  },
  {
   "cell_type": "code",
   "execution_count": 7,
   "metadata": {},
   "outputs": [
    {
     "name": "stdout",
     "output_type": "stream",
     "text": [
      "{'learning_rate': 0.1, 'max_depth': 3, 'n_estimators': 250}\n"
     ]
    }
   ],
   "source": [
    "model_gb = ensemble.GradientBoostingRegressor(random_state=42)\n",
    "n_estimators = [20, 50, 100, 150, 200, 250]\n",
    "max_depth = [3, 4, 5, 6, 7, 8, 9, 10]\n",
    "learning_rate = [ 0.1, 0.05, 0.01, 0.001]\n",
    "\n",
    "param_grid = {'n_estimators': n_estimators, \n",
    "              'max_depth': max_depth, \n",
    "              'learning_rate': learning_rate}\n",
    "\n",
    "gs = GridSearchCV(estimator = model_gb, \n",
    "                  param_grid = param_grid, \n",
    "                  scoring = 'neg_mean_squared_error', \n",
    "                  cv = 10)\n",
    "gs = gs.fit(X_treino, y_treino)\n",
    "\n",
    "print(gs.best_params_)"
   ]
  },
  {
   "cell_type": "markdown",
   "metadata": {},
   "source": [
    "Prediction Models"
   ]
  },
  {
   "cell_type": "code",
   "execution_count": 9,
   "metadata": {},
   "outputs": [],
   "source": [
    "models = {}\n",
    "models['Random_Forest'] = {'model': ensemble.RandomForestRegressor(max_depth=10, \n",
    "                                                        n_estimators=150,\n",
    "                                                        random_state=42)}\n",
    "models['Gradient_Boosting'] = {'model': ensemble.GradientBoostingRegressor(learning_rate=0.1, \n",
    "                                                            max_depth=3, \n",
    "                                                            n_estimators=250, \n",
    "                                                            random_state=42)}"
   ]
  },
  {
   "cell_type": "code",
   "execution_count": 10,
   "metadata": {},
   "outputs": [
    {
     "name": "stdout",
     "output_type": "stream",
     "text": [
      "processando Random_Forest...\n",
      "processando Gradient_Boosting...\n"
     ]
    }
   ],
   "source": [
    "for key in models:\n",
    "    print('processando {}...'.format(key))\n",
    "    models[key]['model'].fit(X_treino, y_treino)\n",
    "    y_pred = models[key]['model'].predict(X_teste)\n",
    "    models[key]['rmse'] = np.sqrt(metrics.mean_squared_error(y_teste, y_pred))\n",
    "    models[key]['mae'] = np.sqrt(metrics.mean_absolute_error(y_teste, y_pred))"
   ]
  },
  {
   "cell_type": "code",
   "execution_count": 11,
   "metadata": {},
   "outputs": [
    {
     "data": {
      "text/html": [
       "<div>\n",
       "<style scoped>\n",
       "    .dataframe tbody tr th:only-of-type {\n",
       "        vertical-align: middle;\n",
       "    }\n",
       "\n",
       "    .dataframe tbody tr th {\n",
       "        vertical-align: top;\n",
       "    }\n",
       "\n",
       "    .dataframe thead th {\n",
       "        text-align: right;\n",
       "    }\n",
       "</style>\n",
       "<table border=\"1\" class=\"dataframe\">\n",
       "  <thead>\n",
       "    <tr style=\"text-align: right;\">\n",
       "      <th></th>\n",
       "      <th>rmse</th>\n",
       "      <th>mae</th>\n",
       "    </tr>\n",
       "  </thead>\n",
       "  <tbody>\n",
       "    <tr>\n",
       "      <th>Random_Forest</th>\n",
       "      <td>0.00788666</td>\n",
       "      <td>0.0795553</td>\n",
       "    </tr>\n",
       "    <tr>\n",
       "      <th>Gradient_Boosting</th>\n",
       "      <td>0.00838521</td>\n",
       "      <td>0.082527</td>\n",
       "    </tr>\n",
       "  </tbody>\n",
       "</table>\n",
       "</div>"
      ],
      "text/plain": [
       "                         rmse        mae\n",
       "Random_Forest      0.00788666  0.0795553\n",
       "Gradient_Boosting  0.00838521   0.082527"
      ]
     },
     "execution_count": 11,
     "metadata": {},
     "output_type": "execute_result"
    }
   ],
   "source": [
    "df = pd.DataFrame(models)\n",
    "df_T = df.transpose()\n",
    "df_T[['rmse', 'mae']]"
   ]
  }
 ],
 "metadata": {
  "kernelspec": {
   "display_name": "Python 3",
   "language": "python",
   "name": "python3"
  },
  "language_info": {
   "codemirror_mode": {
    "name": "ipython",
    "version": 3
   },
   "file_extension": ".py",
   "mimetype": "text/x-python",
   "name": "python",
   "nbconvert_exporter": "python",
   "pygments_lexer": "ipython3",
   "version": "3.6.9"
  },
  "toc": {
   "base_numbering": 1,
   "nav_menu": {},
   "number_sections": true,
   "sideBar": true,
   "skip_h1_title": false,
   "title_cell": "Table of Contents",
   "title_sidebar": "Contents",
   "toc_cell": false,
   "toc_position": {},
   "toc_section_display": true,
   "toc_window_display": false
  }
 },
 "nbformat": 4,
 "nbformat_minor": 2
}
