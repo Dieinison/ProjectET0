{
 "cells": [
  {
   "cell_type": "markdown",
   "metadata": {},
   "source": [
    "# SARIMA Forecasting to predict $ET_0$"
   ]
  },
  {
   "cell_type": "markdown",
   "metadata": {},
   "source": [
    "Libs required"
   ]
  },
  {
   "cell_type": "code",
   "execution_count": 1,
   "metadata": {},
   "outputs": [],
   "source": [
    "%matplotlib inline\n",
    "\n",
    "import pandas as pd\n",
    "import numpy as np\n",
    "import warnings\n",
    "from sklearn import metrics as mt\n",
    "from pyramid.arima import auto_arima\n",
    "warnings.filterwarnings(\"ignore\")"
   ]
  },
  {
   "cell_type": "code",
   "execution_count": 2,
   "metadata": {},
   "outputs": [],
   "source": [
    "y_treino = pd.read_csv('y_treino.csv', index_col=['data'], parse_dates=['data'])\n",
    "y_teste = pd.read_csv('y_teste.csv', index_col=['data'], parse_dates=['data'])"
   ]
  },
  {
   "cell_type": "code",
   "execution_count": 3,
   "metadata": {},
   "outputs": [],
   "source": [
    "y_teste.index.name = 'Date'\n",
    "y_teste.rename(columns={\"et0\": \"ET0\"});"
   ]
  },
  {
   "cell_type": "code",
   "execution_count": 4,
   "metadata": {},
   "outputs": [],
   "source": [
    "et0 = pd.concat([y_treino, y_teste])"
   ]
  },
  {
   "cell_type": "code",
   "execution_count": null,
   "metadata": {},
   "outputs": [
    {
     "name": "stdout",
     "output_type": "stream",
     "text": [
      "Fit ARIMA: order=(1, 1, 1) seasonal_order=(0, 1, 1, 12); AIC=-1954.441, BIC=-1935.583, Fit time=1.912 seconds\n",
      "Fit ARIMA: order=(0, 1, 0) seasonal_order=(0, 1, 0, 12); AIC=-1807.343, BIC=-1799.800, Fit time=0.431 seconds\n",
      "Fit ARIMA: order=(1, 1, 0) seasonal_order=(1, 1, 0, 12); AIC=-1870.907, BIC=-1855.822, Fit time=2.910 seconds\n",
      "Fit ARIMA: order=(0, 1, 1) seasonal_order=(0, 1, 1, 12); AIC=-1958.981, BIC=-1943.895, Fit time=2.687 seconds\n",
      "Fit ARIMA: order=(0, 1, 1) seasonal_order=(1, 1, 1, 12); AIC=-1962.092, BIC=-1943.234, Fit time=4.295 seconds\n",
      "Fit ARIMA: order=(0, 1, 1) seasonal_order=(1, 1, 0, 12); AIC=-1880.629, BIC=-1865.544, Fit time=2.242 seconds\n",
      "Fit ARIMA: order=(0, 1, 1) seasonal_order=(1, 1, 2, 12); AIC=-1957.062, BIC=-1934.434, Fit time=4.430 seconds\n",
      "Fit ARIMA: order=(0, 1, 1) seasonal_order=(0, 1, 0, 12); AIC=-1829.910, BIC=-1818.595, Fit time=0.738 seconds\n",
      "Fit ARIMA: order=(0, 1, 1) seasonal_order=(2, 1, 2, 12); AIC=-1955.379, BIC=-1928.979, Fit time=3.142 seconds\n",
      "Fit ARIMA: order=(1, 1, 1) seasonal_order=(1, 1, 1, 12); AIC=-1948.731, BIC=-1926.102, Fit time=2.037 seconds\n",
      "Fit ARIMA: order=(0, 1, 0) seasonal_order=(1, 1, 1, 12); AIC=-1951.838, BIC=-1936.752, Fit time=3.246 seconds\n",
      "Fit ARIMA: order=(0, 1, 2) seasonal_order=(1, 1, 1, 12); AIC=-1959.388, BIC=-1936.759, Fit time=4.218 seconds\n",
      "Fit ARIMA: order=(1, 1, 2) seasonal_order=(1, 1, 1, 12); AIC=-1965.538, BIC=-1939.138, Fit time=5.621 seconds\n",
      "Fit ARIMA: order=(1, 1, 2) seasonal_order=(0, 1, 1, 12); AIC=-1979.689, BIC=-1957.061, Fit time=4.999 seconds\n",
      "Fit ARIMA: order=(1, 1, 2) seasonal_order=(0, 1, 0, 12); AIC=-1847.059, BIC=-1828.202, Fit time=0.713 seconds\n",
      "Fit ARIMA: order=(1, 1, 2) seasonal_order=(0, 1, 2, 12); AIC=-1983.709, BIC=-1957.309, Fit time=10.024 seconds\n",
      "Fit ARIMA: order=(0, 1, 2) seasonal_order=(0, 1, 2, 12); AIC=-1979.303, BIC=-1956.674, Fit time=9.617 seconds\n",
      "Fit ARIMA: order=(2, 1, 2) seasonal_order=(0, 1, 2, 12); AIC=nan, BIC=nan, Fit time=nan seconds\n",
      "Fit ARIMA: order=(1, 1, 1) seasonal_order=(0, 1, 2, 12); AIC=-1984.758, BIC=-1962.129, Fit time=5.404 seconds\n",
      "Fit ARIMA: order=(0, 1, 0) seasonal_order=(0, 1, 2, 12); AIC=-1948.602, BIC=-1933.517, Fit time=6.268 seconds\n",
      "Fit ARIMA: order=(1, 1, 1) seasonal_order=(1, 1, 2, 12); AIC=-1976.079, BIC=-1949.679, Fit time=9.423 seconds\n",
      "Fit ARIMA: order=(0, 1, 1) seasonal_order=(0, 1, 2, 12); AIC=-1968.342, BIC=-1949.485, Fit time=7.258 seconds\n",
      "Fit ARIMA: order=(2, 1, 1) seasonal_order=(0, 1, 2, 12); AIC=-1987.221, BIC=-1960.821, Fit time=22.009 seconds\n",
      "Fit ARIMA: order=(2, 1, 0) seasonal_order=(0, 1, 2, 12); AIC=-1968.050, BIC=-1945.421, Fit time=7.181 seconds\n",
      "Fit ARIMA: order=(1, 1, 0) seasonal_order=(0, 1, 2, 12); AIC=-1957.660, BIC=-1938.802, Fit time=5.683 seconds\n",
      "Fit ARIMA: order=(3, 1, 2) seasonal_order=(0, 1, 2, 12); AIC=nan, BIC=nan, Fit time=nan seconds\n",
      "Fit ARIMA: order=(2, 1, 1) seasonal_order=(1, 1, 2, 12); AIC=-1980.340, BIC=-1950.168, Fit time=11.211 seconds\n"
     ]
    }
   ],
   "source": [
    "sarima_model = auto_arima(et0.et0, start_p=1, start_q=1, max_p=5, max_q=5, m=12,\n",
    "                          start_P=0, seasonal=True, d=1, D=1, trace=True,\n",
    "                          error_action='ignore',  # don't want to know if an order does not work\n",
    "                          suppress_warnings=True,  # don't want convergence warnings\n",
    "                          stepwise=True)  # set to stepwise\n",
    "\n",
    "sarima_model.summary()"
   ]
  },
  {
   "cell_type": "code",
   "execution_count": null,
   "metadata": {},
   "outputs": [],
   "source": [
    "sarima_model.fit(y_treino.et0)"
   ]
  },
  {
   "cell_type": "code",
   "execution_count": null,
   "metadata": {},
   "outputs": [],
   "source": [
    "y_pred = sarima_model.predict(n_periods=len(y_teste))\n",
    "\n",
    "print('RMSE = {}\\nMAE = {}'.format(\n",
    "    np.sqrt(mt.mean_squared_error(y_teste.et0, y_p)), \n",
    "    mt.mean_absolute_error(y_teste.et0, y_p)))"
   ]
  }
 ],
 "metadata": {
  "kernelspec": {
   "display_name": "Python 3",
   "language": "python",
   "name": "python3"
  },
  "language_info": {
   "codemirror_mode": {
    "name": "ipython",
    "version": 3
   },
   "file_extension": ".py",
   "mimetype": "text/x-python",
   "name": "python",
   "nbconvert_exporter": "python",
   "pygments_lexer": "ipython3",
   "version": "3.6.3"
  },
  "toc": {
   "base_numbering": 1,
   "nav_menu": {},
   "number_sections": true,
   "sideBar": true,
   "skip_h1_title": false,
   "title_cell": "Table of Contents",
   "title_sidebar": "Contents",
   "toc_cell": false,
   "toc_position": {},
   "toc_section_display": true,
   "toc_window_display": false
  }
 },
 "nbformat": 4,
 "nbformat_minor": 2
}
