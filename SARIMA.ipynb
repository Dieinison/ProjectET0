{
 "cells": [
  {
   "cell_type": "markdown",
   "metadata": {},
   "source": [
    "# SARIMA Forecasting to predict $ET_0$"
   ]
  },
  {
   "cell_type": "markdown",
   "metadata": {},
   "source": [
    "Libs required"
   ]
  },
  {
   "cell_type": "code",
   "execution_count": 1,
   "metadata": {},
   "outputs": [],
   "source": [
    "%matplotlib inline\n",
    "\n",
    "import pandas as pd\n",
    "import numpy as np\n",
    "import warnings\n",
    "from sklearn import metrics as mt\n",
    "from pyramid.arima import auto_arima\n",
    "warnings.filterwarnings(\"ignore\")"
   ]
  },
  {
   "cell_type": "code",
   "execution_count": 2,
   "metadata": {},
   "outputs": [],
   "source": [
    "y_treino = pd.read_csv('y_treino.csv', index_col=['data'], parse_dates=['data'])\n",
    "y_teste = pd.read_csv('y_teste.csv', index_col=['data'], parse_dates=['data'])"
   ]
  },
  {
   "cell_type": "code",
   "execution_count": 3,
   "metadata": {},
   "outputs": [],
   "source": [
    "y_teste.index.name = 'Date'\n",
    "y_teste.rename(columns={\"et0\": \"ET0\"});"
   ]
  },
  {
   "cell_type": "code",
   "execution_count": 4,
   "metadata": {},
   "outputs": [],
   "source": [
    "et0 = pd.concat([y_treino, y_teste])"
   ]
  },
  {
   "cell_type": "code",
   "execution_count": 5,
   "metadata": {},
   "outputs": [
    {
     "name": "stdout",
     "output_type": "stream",
     "text": [
      "Fit ARIMA: order=(1, 1, 1) seasonal_order=(0, 1, 1, 12); AIC=-1954.441, BIC=-1935.583, Fit time=1.912 seconds\n",
      "Fit ARIMA: order=(0, 1, 0) seasonal_order=(0, 1, 0, 12); AIC=-1807.343, BIC=-1799.800, Fit time=0.431 seconds\n",
      "Fit ARIMA: order=(1, 1, 0) seasonal_order=(1, 1, 0, 12); AIC=-1870.907, BIC=-1855.822, Fit time=2.910 seconds\n",
      "Fit ARIMA: order=(0, 1, 1) seasonal_order=(0, 1, 1, 12); AIC=-1958.981, BIC=-1943.895, Fit time=2.687 seconds\n",
      "Fit ARIMA: order=(0, 1, 1) seasonal_order=(1, 1, 1, 12); AIC=-1962.092, BIC=-1943.234, Fit time=4.295 seconds\n",
      "Fit ARIMA: order=(0, 1, 1) seasonal_order=(1, 1, 0, 12); AIC=-1880.629, BIC=-1865.544, Fit time=2.242 seconds\n",
      "Fit ARIMA: order=(0, 1, 1) seasonal_order=(1, 1, 2, 12); AIC=-1957.062, BIC=-1934.434, Fit time=4.430 seconds\n",
      "Fit ARIMA: order=(0, 1, 1) seasonal_order=(0, 1, 0, 12); AIC=-1829.910, BIC=-1818.595, Fit time=0.738 seconds\n",
      "Fit ARIMA: order=(0, 1, 1) seasonal_order=(2, 1, 2, 12); AIC=-1955.379, BIC=-1928.979, Fit time=3.142 seconds\n",
      "Fit ARIMA: order=(1, 1, 1) seasonal_order=(1, 1, 1, 12); AIC=-1948.731, BIC=-1926.102, Fit time=2.037 seconds\n",
      "Fit ARIMA: order=(0, 1, 0) seasonal_order=(1, 1, 1, 12); AIC=-1951.838, BIC=-1936.752, Fit time=3.246 seconds\n",
      "Fit ARIMA: order=(0, 1, 2) seasonal_order=(1, 1, 1, 12); AIC=-1959.388, BIC=-1936.759, Fit time=4.218 seconds\n",
      "Fit ARIMA: order=(1, 1, 2) seasonal_order=(1, 1, 1, 12); AIC=-1965.538, BIC=-1939.138, Fit time=5.621 seconds\n",
      "Fit ARIMA: order=(1, 1, 2) seasonal_order=(0, 1, 1, 12); AIC=-1979.689, BIC=-1957.061, Fit time=4.999 seconds\n",
      "Fit ARIMA: order=(1, 1, 2) seasonal_order=(0, 1, 0, 12); AIC=-1847.059, BIC=-1828.202, Fit time=0.713 seconds\n",
      "Fit ARIMA: order=(1, 1, 2) seasonal_order=(0, 1, 2, 12); AIC=-1983.709, BIC=-1957.309, Fit time=10.024 seconds\n",
      "Fit ARIMA: order=(0, 1, 2) seasonal_order=(0, 1, 2, 12); AIC=-1979.303, BIC=-1956.674, Fit time=9.617 seconds\n",
      "Fit ARIMA: order=(2, 1, 2) seasonal_order=(0, 1, 2, 12); AIC=nan, BIC=nan, Fit time=nan seconds\n",
      "Fit ARIMA: order=(1, 1, 1) seasonal_order=(0, 1, 2, 12); AIC=-1984.758, BIC=-1962.129, Fit time=5.404 seconds\n",
      "Fit ARIMA: order=(0, 1, 0) seasonal_order=(0, 1, 2, 12); AIC=-1948.602, BIC=-1933.517, Fit time=6.268 seconds\n",
      "Fit ARIMA: order=(1, 1, 1) seasonal_order=(1, 1, 2, 12); AIC=-1976.079, BIC=-1949.679, Fit time=9.423 seconds\n",
      "Fit ARIMA: order=(0, 1, 1) seasonal_order=(0, 1, 2, 12); AIC=-1968.342, BIC=-1949.485, Fit time=7.258 seconds\n",
      "Fit ARIMA: order=(2, 1, 1) seasonal_order=(0, 1, 2, 12); AIC=-1987.221, BIC=-1960.821, Fit time=22.009 seconds\n",
      "Fit ARIMA: order=(2, 1, 0) seasonal_order=(0, 1, 2, 12); AIC=-1968.050, BIC=-1945.421, Fit time=7.181 seconds\n",
      "Fit ARIMA: order=(1, 1, 0) seasonal_order=(0, 1, 2, 12); AIC=-1957.660, BIC=-1938.802, Fit time=5.683 seconds\n",
      "Fit ARIMA: order=(3, 1, 2) seasonal_order=(0, 1, 2, 12); AIC=nan, BIC=nan, Fit time=nan seconds\n",
      "Fit ARIMA: order=(2, 1, 1) seasonal_order=(1, 1, 2, 12); AIC=-1980.340, BIC=-1950.168, Fit time=11.211 seconds\n",
      "Fit ARIMA: order=(2, 1, 1) seasonal_order=(0, 1, 1, 12); AIC=-1950.112, BIC=-1927.484, Fit time=5.903 seconds\n",
      "Fit ARIMA: order=(3, 1, 1) seasonal_order=(0, 1, 2, 12); AIC=-1974.919, BIC=-1944.747, Fit time=17.151 seconds\n",
      "Total fit time: 160.774 seconds\n"
     ]
    },
    {
     "data": {
      "text/html": [
       "<table class=\"simpletable\">\n",
       "<caption>Statespace Model Results</caption>\n",
       "<tr>\n",
       "  <th>Dep. Variable:</th>                  <td>y</td>               <th>  No. Observations:  </th>    <td>334</td>   \n",
       "</tr>\n",
       "<tr>\n",
       "  <th>Model:</th>           <td>SARIMAX(2, 1, 1)x(0, 1, 2, 12)</td> <th>  Log Likelihood     </th> <td>1000.611</td> \n",
       "</tr>\n",
       "<tr>\n",
       "  <th>Date:</th>                   <td>Mon, 24 Sep 2018</td>        <th>  AIC                </th> <td>-1987.221</td>\n",
       "</tr>\n",
       "<tr>\n",
       "  <th>Time:</th>                       <td>22:38:21</td>            <th>  BIC                </th> <td>-1960.821</td>\n",
       "</tr>\n",
       "<tr>\n",
       "  <th>Sample:</th>                         <td>0</td>               <th>  HQIC               </th> <td>-1976.680</td>\n",
       "</tr>\n",
       "<tr>\n",
       "  <th></th>                             <td> - 334</td>             <th>                     </th>     <td> </td>    \n",
       "</tr>\n",
       "<tr>\n",
       "  <th>Covariance Type:</th>               <td>opg</td>              <th>                     </th>     <td> </td>    \n",
       "</tr>\n",
       "</table>\n",
       "<table class=\"simpletable\">\n",
       "<tr>\n",
       "      <td></td>         <th>coef</th>     <th>std err</th>      <th>z</th>      <th>P>|z|</th>  <th>[0.025</th>    <th>0.975]</th>  \n",
       "</tr>\n",
       "<tr>\n",
       "  <th>intercept</th> <td> 4.939e-06</td> <td> 3.41e-05</td> <td>    0.145</td> <td> 0.885</td> <td>-6.18e-05</td> <td> 7.17e-05</td>\n",
       "</tr>\n",
       "<tr>\n",
       "  <th>ar.L1</th>     <td>    0.3719</td> <td>    0.110</td> <td>    3.391</td> <td> 0.001</td> <td>    0.157</td> <td>    0.587</td>\n",
       "</tr>\n",
       "<tr>\n",
       "  <th>ar.L2</th>     <td>   -0.1200</td> <td>    0.072</td> <td>   -1.663</td> <td> 0.096</td> <td>   -0.262</td> <td>    0.021</td>\n",
       "</tr>\n",
       "<tr>\n",
       "  <th>ma.L1</th>     <td>   -0.6968</td> <td>    0.101</td> <td>   -6.886</td> <td> 0.000</td> <td>   -0.895</td> <td>   -0.498</td>\n",
       "</tr>\n",
       "<tr>\n",
       "  <th>ma.S.L12</th>  <td>   -0.7907</td> <td>    0.061</td> <td>  -12.870</td> <td> 0.000</td> <td>   -0.911</td> <td>   -0.670</td>\n",
       "</tr>\n",
       "<tr>\n",
       "  <th>ma.S.L24</th>  <td>   -0.0932</td> <td>    0.057</td> <td>   -1.635</td> <td> 0.102</td> <td>   -0.205</td> <td>    0.018</td>\n",
       "</tr>\n",
       "<tr>\n",
       "  <th>sigma2</th>    <td>    0.0001</td> <td> 8.37e-06</td> <td>   12.916</td> <td> 0.000</td> <td> 9.17e-05</td> <td>    0.000</td>\n",
       "</tr>\n",
       "</table>\n",
       "<table class=\"simpletable\">\n",
       "<tr>\n",
       "  <th>Ljung-Box (Q):</th>          <td>28.94</td> <th>  Jarque-Bera (JB):  </th> <td>9.80</td> \n",
       "</tr>\n",
       "<tr>\n",
       "  <th>Prob(Q):</th>                <td>0.90</td>  <th>  Prob(JB):          </th> <td>0.01</td> \n",
       "</tr>\n",
       "<tr>\n",
       "  <th>Heteroskedasticity (H):</th> <td>0.94</td>  <th>  Skew:              </th> <td>-0.21</td>\n",
       "</tr>\n",
       "<tr>\n",
       "  <th>Prob(H) (two-sided):</th>    <td>0.77</td>  <th>  Kurtosis:          </th> <td>3.75</td> \n",
       "</tr>\n",
       "</table><br/><br/>Warnings:<br/>[1] Covariance matrix calculated using the outer product of gradients (complex-step)."
      ],
      "text/plain": [
       "<class 'statsmodels.iolib.summary.Summary'>\n",
       "\"\"\"\n",
       "                                 Statespace Model Results                                 \n",
       "==========================================================================================\n",
       "Dep. Variable:                                  y   No. Observations:                  334\n",
       "Model:             SARIMAX(2, 1, 1)x(0, 1, 2, 12)   Log Likelihood                1000.611\n",
       "Date:                            Mon, 24 Sep 2018   AIC                          -1987.221\n",
       "Time:                                    22:38:21   BIC                          -1960.821\n",
       "Sample:                                         0   HQIC                         -1976.680\n",
       "                                            - 334                                         \n",
       "Covariance Type:                              opg                                         \n",
       "==============================================================================\n",
       "                 coef    std err          z      P>|z|      [0.025      0.975]\n",
       "------------------------------------------------------------------------------\n",
       "intercept   4.939e-06   3.41e-05      0.145      0.885   -6.18e-05    7.17e-05\n",
       "ar.L1          0.3719      0.110      3.391      0.001       0.157       0.587\n",
       "ar.L2         -0.1200      0.072     -1.663      0.096      -0.262       0.021\n",
       "ma.L1         -0.6968      0.101     -6.886      0.000      -0.895      -0.498\n",
       "ma.S.L12      -0.7907      0.061    -12.870      0.000      -0.911      -0.670\n",
       "ma.S.L24      -0.0932      0.057     -1.635      0.102      -0.205       0.018\n",
       "sigma2         0.0001   8.37e-06     12.916      0.000    9.17e-05       0.000\n",
       "===================================================================================\n",
       "Ljung-Box (Q):                       28.94   Jarque-Bera (JB):                 9.80\n",
       "Prob(Q):                              0.90   Prob(JB):                         0.01\n",
       "Heteroskedasticity (H):               0.94   Skew:                            -0.21\n",
       "Prob(H) (two-sided):                  0.77   Kurtosis:                         3.75\n",
       "===================================================================================\n",
       "\n",
       "Warnings:\n",
       "[1] Covariance matrix calculated using the outer product of gradients (complex-step).\n",
       "\"\"\""
      ]
     },
     "execution_count": 5,
     "metadata": {},
     "output_type": "execute_result"
    }
   ],
   "source": [
    "sarima_model = auto_arima(et0.et0, start_p=1, start_q=1, max_p=5, max_q=5, m=12,\n",
    "                          start_P=0, seasonal=True, d=1, D=1, trace=True,\n",
    "                          error_action='ignore',  # don't want to know if an order does not work\n",
    "                          suppress_warnings=True,  # don't want convergence warnings\n",
    "                          stepwise=True)  # set to stepwise\n",
    "\n",
    "sarima_model.summary()"
   ]
  },
  {
   "cell_type": "code",
   "execution_count": 6,
   "metadata": {},
   "outputs": [
    {
     "data": {
      "text/plain": [
       "ARIMA(callback=None, disp=0, maxiter=50, method=None, order=(2, 1, 1),\n",
       "   out_of_sample_size=0, scoring='mse', scoring_args={},\n",
       "   seasonal_order=(0, 1, 2, 12), solver='lbfgs', start_params=None,\n",
       "   suppress_warnings=True, transparams=True, trend='c')"
      ]
     },
     "execution_count": 6,
     "metadata": {},
     "output_type": "execute_result"
    }
   ],
   "source": [
    "sarima_model.fit(y_treino.et0)"
   ]
  },
  {
   "cell_type": "code",
   "execution_count": 8,
   "metadata": {},
   "outputs": [
    {
     "name": "stdout",
     "output_type": "stream",
     "text": [
      "RMSE = 0.021835608174695098\n",
      "MAE = 0.019567782407184542\n"
     ]
    }
   ],
   "source": [
    "y_pred = sarima_model.predict(n_periods=len(y_teste))\n",
    "\n",
    "print('RMSE = {}\\nMAE = {}'.format(\n",
    "    np.sqrt(mt.mean_squared_error(y_teste.et0, y_pred)), \n",
    "    mt.mean_absolute_error(y_teste.et0, y_pred)))"
   ]
  }
 ],
 "metadata": {
  "kernelspec": {
   "display_name": "Python 3",
   "language": "python",
   "name": "python3"
  },
  "language_info": {
   "codemirror_mode": {
    "name": "ipython",
    "version": 3
   },
   "file_extension": ".py",
   "mimetype": "text/x-python",
   "name": "python",
   "nbconvert_exporter": "python",
   "pygments_lexer": "ipython3",
   "version": "3.6.3"
  },
  "toc": {
   "base_numbering": 1,
   "nav_menu": {},
   "number_sections": true,
   "sideBar": true,
   "skip_h1_title": false,
   "title_cell": "Table of Contents",
   "title_sidebar": "Contents",
   "toc_cell": false,
   "toc_position": {},
   "toc_section_display": true,
   "toc_window_display": false
  }
 },
 "nbformat": 4,
 "nbformat_minor": 2
}
